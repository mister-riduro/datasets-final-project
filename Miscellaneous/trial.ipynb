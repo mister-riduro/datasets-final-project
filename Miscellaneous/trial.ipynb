{
 "cells": [
  {
   "cell_type": "code",
   "execution_count": 4,
   "metadata": {},
   "outputs": [],
   "source": [
    "from decimal import Decimal\n",
    "from bs4 import BeautifulSoup\n",
    "import requests\n",
    "import pandas as pd"
   ]
  },
  {
   "cell_type": "code",
   "execution_count": 5,
   "metadata": {},
   "outputs": [],
   "source": [
    "check_in = \"2022-09-01\"\n",
    "check_out = \"2022-10-02\""
   ]
  },
  {
   "cell_type": "code",
   "execution_count": 8,
   "metadata": {},
   "outputs": [
    {
     "name": "stdout",
     "output_type": "stream",
     "text": [
      "[<div class=\"room-price\"><span>IDR<!-- --> <!-- -->220.000</span><div class=\"price-detail-popover hidden\"><div class=\"popover-body\"><div class=\"tix-font h4\">Detail Harga</div><div><div class=\"price-section\"><p>Harga</p><ul><li><div class=\"price-item\"><span>Malam<!-- --> <!-- -->1<!-- --> x <!-- -->1<!-- --> <!-- -->kamar</span><span>IDR<!-- --> <!-- -->220.000</span></div></li></ul></div></div><div class=\"total-price\">Total<span>IDR<!-- --> <!-- -->220.000</span></div></div><div class=\"popover-footer\"><span>Dapatkan</span><div class=\"tix-point\"><img src=\"/hotel/v3/assets/tiketPoints.png\"/> <span>3.850</span> <!-- -->tiket Points</div></div></div></div>, <div class=\"room-price\"><span>IDR<!-- --> <!-- -->319.000</span><div class=\"price-detail-popover hidden\"><div class=\"popover-body\"><div class=\"tix-font h4\">Detail Harga</div><div><div class=\"price-section\"><p>Harga</p><ul><li><div class=\"price-item\"><span>Malam<!-- --> <!-- -->1<!-- --> x <!-- -->1<!-- --> <!-- -->kamar</span><span>IDR<!-- --> <!-- -->319.000</span></div></li></ul></div></div><div class=\"total-price\">Total<span>IDR<!-- --> <!-- -->319.000</span></div></div><div class=\"popover-footer\"><span>Dapatkan</span><div class=\"tix-point\"><img src=\"/hotel/v3/assets/tiketPoints.png\"/> <span>5.583</span> <!-- -->tiket Points</div></div></div></div>]\n",
      "[]\n"
     ]
    }
   ],
   "source": [
    "req=requests.get(\"https://www.tiket.com/hotel/indonesia/green-leaf-inn-109001537352175311?checkin=2022-10-01&checkout=2022-10-02&room=1&adult=2&soldOut=false\")\n",
    "content=req.text\n",
    "\n",
    "soup=BeautifulSoup(content)\n",
    "\n",
    "for a in soup.findAll('div', attrs={'class':'hotel-detail__container'}):\n",
    "\n",
    "    room_price = a.findAll('div', attrs={'class':'room-price'})\n",
    "    print(room_price)"
   ]
  }
 ],
 "metadata": {
  "kernelspec": {
   "display_name": "Python 3.9.12 ('base')",
   "language": "python",
   "name": "python3"
  },
  "language_info": {
   "codemirror_mode": {
    "name": "ipython",
    "version": 3
   },
   "file_extension": ".py",
   "mimetype": "text/x-python",
   "name": "python",
   "nbconvert_exporter": "python",
   "pygments_lexer": "ipython3",
   "version": "3.9.12"
  },
  "orig_nbformat": 4,
  "vscode": {
   "interpreter": {
    "hash": "454801faa909021ccc9f4c957ea4e3a15d37382fe5d6d413266855c6bbeb2e64"
   }
  }
 },
 "nbformat": 4,
 "nbformat_minor": 2
}
