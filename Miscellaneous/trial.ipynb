{
 "cells": [
  {
   "cell_type": "code",
   "execution_count": 1,
   "metadata": {},
   "outputs": [],
   "source": [
    "# from decimal import Decimal\n",
    "# from bs4 import BeautifulSoup\n",
    "# import requests\n",
    "# import pandas as pd\n",
    "\n",
    "# check_in = \"2022-09-01\"\n",
    "# check_out = \"2022-10-02\"\n",
    "\n",
    "# req=requests.get(\"https://www.tiket.com/hotel/indonesia/green-leaf-inn-109001537352175311?checkin=2022-10-01&checkout=2022-10-02&room=1&adult=2&soldOut=false\")\n",
    "# content=req.text\n",
    "\n",
    "# soup=BeautifulSoup(content)\n",
    "\n",
    "# for a in soup.findAll('div', attrs={'class':'hotel-detail__container'}):\n",
    "\n",
    "#     room_price = a.findAll('div', attrs={'class':'room-price'})\n",
    "#     print(room_price)"
   ]
  },
  {
   "cell_type": "code",
   "execution_count": null,
   "metadata": {},
   "outputs": [],
   "source": []
  }
 ],
 "metadata": {
  "kernelspec": {
   "display_name": "Python 3.9.12 ('base')",
   "language": "python",
   "name": "python3"
  },
  "language_info": {
   "codemirror_mode": {
    "name": "ipython",
    "version": 3
   },
   "file_extension": ".py",
   "mimetype": "text/x-python",
   "name": "python",
   "nbconvert_exporter": "python",
   "pygments_lexer": "ipython3",
   "version": "3.9.12"
  },
  "orig_nbformat": 4,
  "vscode": {
   "interpreter": {
    "hash": "454801faa909021ccc9f4c957ea4e3a15d37382fe5d6d413266855c6bbeb2e64"
   }
  }
 },
 "nbformat": 4,
 "nbformat_minor": 2
}
