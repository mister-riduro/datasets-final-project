{
 "cells": [
  {
   "cell_type": "code",
   "execution_count": 1,
   "metadata": {},
   "outputs": [],
   "source": [
    "import pandas as pd"
   ]
  },
  {
   "cell_type": "code",
   "execution_count": 2,
   "metadata": {},
   "outputs": [],
   "source": [
    "fasil_id = [\n",
    "    1, #InDOnesia CARE\n",
    "    2, #tiket CLEAN\n",
    "    3, #Kolam Renang\n",
    "    4, #WiFi\n",
    "    5, #Parkir\n",
    "    6, #Restoran\n",
    "    7, #Resepsionis 24 Jam\n",
    "    8, #Lift\n",
    "    9, #AC,\n",
    "    10, #Pusat Kebugaran\n",
    "    11, #Antar Jemput Bandara\n",
    "    12, #Fasilitas Rapat\n",
    "    13, #Bukti Vaksin Covid-19\n",
    "    14, #Pet-friendly\n",
    "    15, #Perlengkapan BBQ\n",
    "]\n",
    "\n",
    "fasil_name = [\n",
    "     \"InDOnesia CARE\",\n",
    "     \"tiket CLEAN\",\n",
    "     \"Kolam Renang\",\n",
    "     \"WiFi\",\n",
    "     \"Parkir\",\n",
    "     \"Restoran\",\n",
    "     \"Resepsionis 24 Jam\",\n",
    "     \"Lift\",\n",
    "     \"AC\",\n",
    "     \"Pusat Kebugaran\",\n",
    "     \"Antar Jemput Bandara\",\n",
    "     \"Fasilitas Rapat\",\n",
    "     \"Bukti Vaksin Covid-19\",\n",
    "     \"Pet-friendly\",\n",
    "     \"Perlengkapan BBQ\",\n",
    "]"
   ]
  },
  {
   "cell_type": "code",
   "execution_count": 3,
   "metadata": {},
   "outputs": [
    {
     "name": "stdout",
     "output_type": "stream",
     "text": [
      "       list_fasil_id  hotel_id\n",
      "0                  4         1\n",
      "1                  5         1\n",
      "2                  6         1\n",
      "3                  7         1\n",
      "4                  8         1\n",
      "...              ...       ...\n",
      "10044              2      1920\n",
      "10045              5      1920\n",
      "10046              5      1921\n",
      "10047              7      1921\n",
      "10048              9      1921\n",
      "\n",
      "[10049 rows x 2 columns]\n"
     ]
    }
   ],
   "source": [
    "df = pd.read_csv(\"combined_fasil.csv\")\n",
    "print(df)\n",
    "\n",
    "idx = df.index"
   ]
  },
  {
   "cell_type": "code",
   "execution_count": 4,
   "metadata": {},
   "outputs": [
    {
     "name": "stdout",
     "output_type": "stream",
     "text": [
      "[161, 1249, 212, 1781, 1771, 684, 1427, 280, 1590, 33, 403, 329, 26, 48, 55]\n"
     ]
    }
   ],
   "source": [
    "res = []\n",
    "\n",
    "for i in range(1, len(fasil_id)+1):\n",
    "    temp = 0\n",
    "    for j in range (0, idx.stop):\n",
    "        if i == df[\"list_fasil_id\"][j]:\n",
    "            temp += 1\n",
    "    res.append(temp)\n",
    "\n",
    "print(res)"
   ]
  },
  {
   "cell_type": "code",
   "execution_count": 5,
   "metadata": {},
   "outputs": [
    {
     "name": "stdout",
     "output_type": "stream",
     "text": [
      "0.08381051535658511\n",
      "0.6501821967725143\n",
      "0.11035918792295679\n",
      "0.9271212909942738\n",
      "0.9219156689224363\n",
      "0.3560645497136908\n",
      "0.7428422696512234\n",
      "0.14575741801145237\n",
      "0.8276939094221759\n",
      "0.01717855283706403\n",
      "0.20978656949505467\n",
      "0.17126496616345654\n",
      "0.01353461738677772\n",
      "0.024986985944820406\n",
      "0.028630921395106715\n"
     ]
    }
   ],
   "source": [
    "for i in range(0, len(res)):\n",
    "    div = res[i]/1921\n",
    "    print(div)"
   ]
  },
  {
   "cell_type": "code",
   "execution_count": 6,
   "metadata": {},
   "outputs": [
    {
     "name": "stdout",
     "output_type": "stream",
     "text": [
      "['InDOnesia CARE', 'tiket CLEAN', 'Kolam Renang', 'WiFi', 'Parkir', 'Restoran', 'Resepsionis 24 Jam', 'Lift', 'AC', 'Pusat Kebugaran', 'Antar Jemput Bandara', 'Fasilitas Rapat', 'Bukti Vaksin Covid-19', 'Pet-friendly', 'Perlengkapan BBQ']\n",
      "[1, 4, 1, 5, 5, 2, 4, 1, 5, 1, 1, 1, 1, 1]\n"
     ]
    }
   ],
   "source": [
    "rate_facil = []\n",
    "\n",
    "for i in range(0, len(res)):\n",
    "    div = res[i]/1921\n",
    "    if div <= 1 and div >= 0.81:\n",
    "        rate_facil.append(5)\n",
    "    elif div <= 0.80 and div >= 0.61:\n",
    "        rate_facil.append(4)\n",
    "    elif div <= 0.60 and div >= 0.41:\n",
    "        rate_facil.append(3)\n",
    "    elif div <= 0.40 and div >= 0.21:\n",
    "        rate_facil.append(2)\n",
    "    elif div <= 0.2 and div >= 0:\n",
    "        rate_facil.append(1)\n",
    "\n",
    "print(fasil_name)\n",
    "print(rate_facil)"
   ]
  }
 ],
 "metadata": {
  "kernelspec": {
   "display_name": "Python 3.9.12 ('base')",
   "language": "python",
   "name": "python3"
  },
  "language_info": {
   "codemirror_mode": {
    "name": "ipython",
    "version": 3
   },
   "file_extension": ".py",
   "mimetype": "text/x-python",
   "name": "python",
   "nbconvert_exporter": "python",
   "pygments_lexer": "ipython3",
   "version": "3.9.12"
  },
  "orig_nbformat": 4,
  "vscode": {
   "interpreter": {
    "hash": "454801faa909021ccc9f4c957ea4e3a15d37382fe5d6d413266855c6bbeb2e64"
   }
  }
 },
 "nbformat": 4,
 "nbformat_minor": 2
}
