{
 "cells": [
  {
   "cell_type": "code",
   "execution_count": 32,
   "metadata": {},
   "outputs": [],
   "source": [
    "check_out = \"2022-09-16\"\n",
    "check_in = \"2022-09-17\""
   ]
  },
  {
   "cell_type": "code",
   "execution_count": 33,
   "metadata": {},
   "outputs": [
    {
     "name": "stdout",
     "output_type": "stream",
     "text": [
      "4\n"
     ]
    }
   ],
   "source": [
    "link_hotel = [\n",
    "    f\"https://www.tiket.com/hotel/indonesia/reddoorz-prawirotaman-308001596773740991?room=1&adult=2&page=1&checkin={check_in}&checkout={check_out}\",\n",
    "    f\"https://www.tiket.com/hotel/indonesia/wahyu-homestay-argosari-b29-509001662868417918?checkin={check_in}&checkout={check_out}&room=1&adult=2&soldOut=false\",\n",
    "    f\"https://www.tiket.com/hotel/indonesia/marry-ind-guest-house-gunung-kawi-506001655701293418?checkin={check_in}&checkout={check_out}&room=1&adult=2&soldOut=false\",\n",
    "    f\"https://www.tiket.com/hotel/indonesia/spot-on-90698-delfi-homestay-syariah-410001635406698834?checkin={check_in}&checkout={check_out}&room=1&adult=1&soldOut=false\"\n",
    "]\n",
    "print(len(link_hotel))"
   ]
  },
  {
   "cell_type": "code",
   "execution_count": 34,
   "metadata": {},
   "outputs": [],
   "source": [
    "from decimal import Decimal\n",
    "from bs4 import BeautifulSoup\n",
    "import requests\n",
    "import pandas as pd"
   ]
  },
  {
   "cell_type": "code",
   "execution_count": 35,
   "metadata": {},
   "outputs": [
    {
     "name": "stdout",
     "output_type": "stream",
     "text": [
      "<div alt=\"RedDoorz @ Prawirotaman, Yogyakarta\" class=\"photo-grid__main h-2 w-2\"><div class=\"image\"><img alt=\"RedDoorz @ Prawirotaman, Yogyakarta\" src=\"https://s-light.tiket.photos/t/01E25EBZS3W0FY9GTG6C42E1SE/t_htl-dskt/tix-hotel/images-web/2020/11/01/6540b0f9-313f-45b8-93e8-38a1a00654f0-1604180612404-3a1b33b7bc90fe8297716ea566921602.jpg\"/></div></div>\n",
      "None\n",
      "None\n",
      "None\n",
      "<div alt=\"Marry Ind Guest House Gunung Kawi, Malang\" class=\"photo-grid__main h-2 w-2\"><div class=\"image\"><img alt=\"Marry Ind Guest House Gunung Kawi, Malang\" src=\"https://s-light.tiket.photos/t/01E25EBZS3W0FY9GTG6C42E1SE/t_htl-dskt/tix-hotel/images-web/2020/10/09/bc241df2-c1d0-480a-b709-66f177f4a21a-1602254810059-c367776ed9b2dbc4b6d6b37f708774c2.jpg\"/></div></div>\n",
      "None\n",
      "<div alt=\"SPOT ON 90698 Delfi Homestay Syariah, Banjarnegara\" class=\"photo-grid__main h-2 w-2\"><div class=\"image\"><img alt=\"SPOT ON 90698 Delfi Homestay Syariah, Banjarnegara\" src=\"https://s-light.tiket.photos/t/01E25EBZS3W0FY9GTG6C42E1SE/t_htl-dskt/tix-hotel/images-web/2021/11/10/3f01be8f-c95e-4b15-9ee8-252bd157d057-1636486522933-07ef5c772ba76a84b1f9a901120063b5.jpg\"/></div></div>\n",
      "None\n"
     ]
    }
   ],
   "source": [
    "# roomName = []\n",
    "# importantItem = []\n",
    "# roomInformation = []\n",
    "hotelGridImages = []\n",
    "hotelArrImages = []\n",
    "hotelImage = []\n",
    "\n",
    "for i in range(0, len(link_hotel)):\n",
    "    url=link_hotel[i]\n",
    "\n",
    "    # print(url)\n",
    "    req=requests.get(url)\n",
    "    content=req.text\n",
    "\n",
    "    soup=BeautifulSoup(content)\n",
    "    i = 0\n",
    "\n",
    "    for a in soup.findAll('div', attrs={'class':'hotel-detail__container'}):\n",
    "        image_hotel_div = a.find('div', attrs={'class' : 'photo-grid__main h-2 w-2'})\n",
    "        print(image_hotel_div)\n",
    "\n",
    "        if i == 0 and image_hotel_div is None:\n",
    "            #ADD DEFAULT PHOTOS\n",
    "            image_hotel_default = a.find('div', attrs={'class' : 'photo-default'})\n",
    "            # print(image_hotel_default)\n",
    "            image_hotel = image_hotel_default.find('img')\n",
    "            image_hotel = image_hotel.get('src')\n",
    "            image_hotel = \"https://www.tiket.com/\"+image_hotel\n",
    "            hotelImage.append(image_hotel)\n",
    "            hotelGridImages.append(\"-\") \n",
    "        elif i > 0 and image_hotel_div is None:\n",
    "            continue\n",
    "        else:\n",
    "            image_hotel = image_hotel_div.find('img')\n",
    "            image_hotel = image_hotel.get('src')\n",
    "            hotelImage.append(image_hotel)\n",
    "\n",
    "            #ADD MORE HOTEL IMAGES\n",
    "            for b in a.findAll('div', attrs={'class' : 'photo-grid__item'}):\n",
    "                hotel_grid_img = b.find('div',attrs={'class' : 'image'})\n",
    "                hotel_grid_img = hotel_grid_img.find('img')\n",
    "                hotel_grid_img = hotel_grid_img.get('src')\n",
    "                hotelArrImages.append(hotel_grid_img)\n",
    "            \n",
    "            hotelGridImages.append(hotelArrImages)\n",
    "        \n",
    "        i += 1"
   ]
  },
  {
   "cell_type": "code",
   "execution_count": 36,
   "metadata": {},
   "outputs": [
    {
     "data": {
      "text/html": [
       "<div>\n",
       "<style scoped>\n",
       "    .dataframe tbody tr th:only-of-type {\n",
       "        vertical-align: middle;\n",
       "    }\n",
       "\n",
       "    .dataframe tbody tr th {\n",
       "        vertical-align: top;\n",
       "    }\n",
       "\n",
       "    .dataframe thead th {\n",
       "        text-align: right;\n",
       "    }\n",
       "</style>\n",
       "<table border=\"1\" class=\"dataframe\">\n",
       "  <thead>\n",
       "    <tr style=\"text-align: right;\">\n",
       "      <th></th>\n",
       "      <th>Hotel Image</th>\n",
       "      <th>Hotel Grid Photo</th>\n",
       "    </tr>\n",
       "  </thead>\n",
       "  <tbody>\n",
       "    <tr>\n",
       "      <th>0</th>\n",
       "      <td>https://s-light.tiket.photos/t/01E25EBZS3W0FY9...</td>\n",
       "      <td>[https://s-light.tiket.photos/t/01E25EBZS3W0FY...</td>\n",
       "    </tr>\n",
       "    <tr>\n",
       "      <th>1</th>\n",
       "      <td>https://www.tiket.com//hotel/v3/assets/f529139...</td>\n",
       "      <td>-</td>\n",
       "    </tr>\n",
       "    <tr>\n",
       "      <th>2</th>\n",
       "      <td>https://s-light.tiket.photos/t/01E25EBZS3W0FY9...</td>\n",
       "      <td>[https://s-light.tiket.photos/t/01E25EBZS3W0FY...</td>\n",
       "    </tr>\n",
       "    <tr>\n",
       "      <th>3</th>\n",
       "      <td>https://s-light.tiket.photos/t/01E25EBZS3W0FY9...</td>\n",
       "      <td>[https://s-light.tiket.photos/t/01E25EBZS3W0FY...</td>\n",
       "    </tr>\n",
       "  </tbody>\n",
       "</table>\n",
       "</div>"
      ],
      "text/plain": [
       "                                         Hotel Image  \\\n",
       "0  https://s-light.tiket.photos/t/01E25EBZS3W0FY9...   \n",
       "1  https://www.tiket.com//hotel/v3/assets/f529139...   \n",
       "2  https://s-light.tiket.photos/t/01E25EBZS3W0FY9...   \n",
       "3  https://s-light.tiket.photos/t/01E25EBZS3W0FY9...   \n",
       "\n",
       "                                    Hotel Grid Photo  \n",
       "0  [https://s-light.tiket.photos/t/01E25EBZS3W0FY...  \n",
       "1                                                  -  \n",
       "2  [https://s-light.tiket.photos/t/01E25EBZS3W0FY...  \n",
       "3  [https://s-light.tiket.photos/t/01E25EBZS3W0FY...  "
      ]
     },
     "execution_count": 36,
     "metadata": {},
     "output_type": "execute_result"
    }
   ],
   "source": [
    "df = pd.DataFrame(list(zip(hotelImage, hotelGridImages)), columns =['Hotel Image', 'Hotel Grid Photo']) \n",
    "df"
   ]
  },
  {
   "cell_type": "code",
   "execution_count": 37,
   "metadata": {},
   "outputs": [],
   "source": [
    "df.to_csv('hotel.csv', index=True, encoding='utf-8')"
   ]
  }
 ],
 "metadata": {
  "kernelspec": {
   "display_name": "Python 3.10.5 64-bit",
   "language": "python",
   "name": "python3"
  },
  "language_info": {
   "codemirror_mode": {
    "name": "ipython",
    "version": 3
   },
   "file_extension": ".py",
   "mimetype": "text/x-python",
   "name": "python",
   "nbconvert_exporter": "python",
   "pygments_lexer": "ipython3",
   "version": "3.10.5"
  },
  "orig_nbformat": 4,
  "vscode": {
   "interpreter": {
    "hash": "28bb35a3a191e14c48f53fb7b2aca48665e85ef7f69137cb947a8c538b8065d5"
   }
  }
 },
 "nbformat": 4,
 "nbformat_minor": 2
}
