{
 "cells": [
  {
   "cell_type": "code",
   "execution_count": 11,
   "metadata": {},
   "outputs": [],
   "source": [
    "link_hotel = \"https://www.tiket.com/hotel/indonesia/mandarin-oriental-jakarta-108001534490425506?checkin=2022-09-21&checkout=2022-09-22&room=1&adult=2&soldOut=false\""
   ]
  },
  {
   "cell_type": "code",
   "execution_count": 12,
   "metadata": {},
   "outputs": [],
   "source": [
    "from decimal import Decimal\n",
    "from bs4 import BeautifulSoup\n",
    "import requests\n",
    "import pandas as pd"
   ]
  },
  {
   "cell_type": "code",
   "execution_count": 22,
   "metadata": {},
   "outputs": [
    {
     "name": "stdout",
     "output_type": "stream",
     "text": [
      "InDOnesia CARE\n",
      "tiket CLEAN\n",
      "Kolam Renang\n",
      "WiFi\n",
      "Parkir\n",
      "Restoran\n",
      "Resepsionis 24 Jam\n",
      "Lift\n",
      "AC\n",
      "Pusat Kebugaran\n",
      "Antar Jemput Bandara\n",
      "Fasilitas Rapat\n",
      "Bukti Vaksin Covid-19\n",
      "Fitness\n",
      "Ruang Merokok\n",
      "AC\n",
      "Lounge\n",
      "Fasilitas rapat\n",
      "Lift\n",
      "Restoran\n",
      "Ruang Tamu\n",
      "Ruang merokok khusus\n",
      "Kolam Renang\n",
      "Parkir (Gratis)\n",
      "Hewan Peliharaan Tidak Diperbolehkan\n"
     ]
    }
   ],
   "source": [
    "facilities_label = []\n",
    "facilities_icon = []\n",
    "id = []\n",
    "\n",
    "i = 0\n",
    "\n",
    "url=link_hotel\n",
    "req=requests.get(url)\n",
    "content=req.text\n",
    "\n",
    "soup=BeautifulSoup(content)\n",
    "\n",
    "for a in soup.findAll('div', attrs={'class':'card pdp-card facility-list'}):\n",
    "    icon_div = a.findAll('div', attrs={'class' : 'facility-icon'})\n",
    "\n",
    "    for b in icon_div:\n",
    "        icon_facil = b.find('img').get('src')\n",
    "        facilities_icon.append(icon_facil)\n",
    "\n",
    "    label_div = a.findAll('div', attrs={'class' : 'facility-label'})\n",
    "\n",
    "    for c in range(len(label_div)):\n",
    "        print(label_div[c].text)\n",
    "        facilities_label.append(label_div[c].text)\n",
    "        \n",
    "        id.append(i)\n",
    "        i+=1"
   ]
  },
  {
   "cell_type": "code",
   "execution_count": 26,
   "metadata": {},
   "outputs": [
    {
     "data": {
      "text/html": [
       "<div>\n",
       "<style scoped>\n",
       "    .dataframe tbody tr th:only-of-type {\n",
       "        vertical-align: middle;\n",
       "    }\n",
       "\n",
       "    .dataframe tbody tr th {\n",
       "        vertical-align: top;\n",
       "    }\n",
       "\n",
       "    .dataframe thead th {\n",
       "        text-align: right;\n",
       "    }\n",
       "</style>\n",
       "<table border=\"1\" class=\"dataframe\">\n",
       "  <thead>\n",
       "    <tr style=\"text-align: right;\">\n",
       "      <th></th>\n",
       "      <th>nama</th>\n",
       "      <th>ikon</th>\n",
       "    </tr>\n",
       "  </thead>\n",
       "  <tbody>\n",
       "    <tr>\n",
       "      <th>0</th>\n",
       "      <td>InDOnesia CARE</td>\n",
       "      <td>https://s-light.tiket.photos/t/01E25EBZS3W0FY9...</td>\n",
       "    </tr>\n",
       "    <tr>\n",
       "      <th>1</th>\n",
       "      <td>tiket CLEAN</td>\n",
       "      <td>https://s-light.tiket.photos/t/01E25EBZS3W0FY9...</td>\n",
       "    </tr>\n",
       "    <tr>\n",
       "      <th>2</th>\n",
       "      <td>Kolam Renang</td>\n",
       "      <td>https://s-light.tiket.photos/t/01E25EBZS3W0FY9...</td>\n",
       "    </tr>\n",
       "    <tr>\n",
       "      <th>3</th>\n",
       "      <td>WiFi</td>\n",
       "      <td>https://s-light.tiket.photos/t/01E25EBZS3W0FY9...</td>\n",
       "    </tr>\n",
       "    <tr>\n",
       "      <th>4</th>\n",
       "      <td>Parkir</td>\n",
       "      <td>https://s-light.tiket.photos/t/01E25EBZS3W0FY9...</td>\n",
       "    </tr>\n",
       "    <tr>\n",
       "      <th>5</th>\n",
       "      <td>Restoran</td>\n",
       "      <td>https://s-light.tiket.photos/t/01E25EBZS3W0FY9...</td>\n",
       "    </tr>\n",
       "    <tr>\n",
       "      <th>6</th>\n",
       "      <td>Resepsionis 24 Jam</td>\n",
       "      <td>https://s-light.tiket.photos/t/01E25EBZS3W0FY9...</td>\n",
       "    </tr>\n",
       "    <tr>\n",
       "      <th>7</th>\n",
       "      <td>Lift</td>\n",
       "      <td>https://s-light.tiket.photos/t/01E25EBZS3W0FY9...</td>\n",
       "    </tr>\n",
       "    <tr>\n",
       "      <th>8</th>\n",
       "      <td>AC</td>\n",
       "      <td>https://s-light.tiket.photos/t/01E25EBZS3W0FY9...</td>\n",
       "    </tr>\n",
       "    <tr>\n",
       "      <th>9</th>\n",
       "      <td>Pusat Kebugaran</td>\n",
       "      <td>https://s-light.tiket.photos/t/01E25EBZS3W0FY9...</td>\n",
       "    </tr>\n",
       "    <tr>\n",
       "      <th>10</th>\n",
       "      <td>Antar Jemput Bandara</td>\n",
       "      <td>https://s-light.tiket.photos/t/01E25EBZS3W0FY9...</td>\n",
       "    </tr>\n",
       "    <tr>\n",
       "      <th>11</th>\n",
       "      <td>Fasilitas Rapat</td>\n",
       "      <td>https://s-light.tiket.photos/t/01E25EBZS3W0FY9...</td>\n",
       "    </tr>\n",
       "    <tr>\n",
       "      <th>12</th>\n",
       "      <td>Bukti Vaksin Covid-19</td>\n",
       "      <td>https://s-light.tiket.photos/t/01E25EBZS3W0FY9...</td>\n",
       "    </tr>\n",
       "  </tbody>\n",
       "</table>\n",
       "</div>"
      ],
      "text/plain": [
       "                     nama                                               ikon\n",
       "0          InDOnesia CARE  https://s-light.tiket.photos/t/01E25EBZS3W0FY9...\n",
       "1             tiket CLEAN  https://s-light.tiket.photos/t/01E25EBZS3W0FY9...\n",
       "2            Kolam Renang  https://s-light.tiket.photos/t/01E25EBZS3W0FY9...\n",
       "3                    WiFi  https://s-light.tiket.photos/t/01E25EBZS3W0FY9...\n",
       "4                  Parkir  https://s-light.tiket.photos/t/01E25EBZS3W0FY9...\n",
       "5                Restoran  https://s-light.tiket.photos/t/01E25EBZS3W0FY9...\n",
       "6      Resepsionis 24 Jam  https://s-light.tiket.photos/t/01E25EBZS3W0FY9...\n",
       "7                    Lift  https://s-light.tiket.photos/t/01E25EBZS3W0FY9...\n",
       "8                      AC  https://s-light.tiket.photos/t/01E25EBZS3W0FY9...\n",
       "9         Pusat Kebugaran  https://s-light.tiket.photos/t/01E25EBZS3W0FY9...\n",
       "10   Antar Jemput Bandara  https://s-light.tiket.photos/t/01E25EBZS3W0FY9...\n",
       "11        Fasilitas Rapat  https://s-light.tiket.photos/t/01E25EBZS3W0FY9...\n",
       "12  Bukti Vaksin Covid-19  https://s-light.tiket.photos/t/01E25EBZS3W0FY9..."
      ]
     },
     "execution_count": 26,
     "metadata": {},
     "output_type": "execute_result"
    }
   ],
   "source": [
    "df = pd.DataFrame(list(zip(facilities_label, facilities_icon)), columns =['nama', 'ikon']) \n",
    "df"
   ]
  },
  {
   "cell_type": "code",
   "execution_count": 25,
   "metadata": {},
   "outputs": [],
   "source": [
    "df.to_csv('fasilitas.csv', index=True, encoding='utf-8')"
   ]
  },
  {
   "cell_type": "code",
   "execution_count": null,
   "metadata": {},
   "outputs": [],
   "source": []
  }
 ],
 "metadata": {
  "kernelspec": {
   "display_name": "Python 3.9.12 ('base')",
   "language": "python",
   "name": "python3"
  },
  "language_info": {
   "codemirror_mode": {
    "name": "ipython",
    "version": 3
   },
   "file_extension": ".py",
   "mimetype": "text/x-python",
   "name": "python",
   "nbconvert_exporter": "python",
   "pygments_lexer": "ipython3",
   "version": "3.9.12"
  },
  "orig_nbformat": 4,
  "vscode": {
   "interpreter": {
    "hash": "454801faa909021ccc9f4c957ea4e3a15d37382fe5d6d413266855c6bbeb2e64"
   }
  }
 },
 "nbformat": 4,
 "nbformat_minor": 2
}
